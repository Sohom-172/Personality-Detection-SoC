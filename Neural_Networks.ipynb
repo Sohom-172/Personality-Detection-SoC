{
  "cells": [
    {
      "cell_type": "markdown",
      "metadata": {
        "id": "view-in-github",
        "colab_type": "text"
      },
      "source": [
        "<a href=\"https://colab.research.google.com/github/Sohom-172/Personality-Detection-SoC/blob/Week-4/Neural_Networks.ipynb\" target=\"_parent\"><img src=\"https://colab.research.google.com/assets/colab-badge.svg\" alt=\"Open In Colab\"/></a>"
      ]
    },
    {
      "cell_type": "markdown",
      "id": "authentic-attack",
      "metadata": {
        "id": "authentic-attack"
      },
      "source": [
        "# Neural Networks"
      ]
    },
    {
      "cell_type": "markdown",
      "id": "union-pacific",
      "metadata": {
        "id": "union-pacific"
      },
      "source": [
        "## What are neural networks?\n",
        "They are the backbone of deep learning. The name neural networks comes from biology as their function mimics the functioning of the brain.  \n",
        "Before reading the rest of this read about the maths behind neural networks [here](https://www.youtube.com/watch?v=EVeqrPGfuCY&list=PLLssT5z_DsK-h9vYZkQkYNWcItqhlRJLN&index=45) watch 8.3-9.6"
      ]
    },
    {
      "cell_type": "markdown",
      "id": "horizontal-metro",
      "metadata": {
        "id": "horizontal-metro"
      },
      "source": [
        "### Components of a general ML model:-\n",
        "* A model to predict :- For an example, $y = mx + c$ predicts y given x\n",
        "* A way to find the loss or the inaccuracies :- Example is mean squared error (MSE) in linear regression\n",
        "* A way to optimise the model :- Example is the gradient descent that was seen in linear regression"
      ]
    },
    {
      "cell_type": "markdown",
      "id": "automotive-compatibility",
      "metadata": {
        "id": "automotive-compatibility"
      },
      "source": [
        "## Loss Functions\n",
        "* RMSE :- Generally used for regression, also called $L_2$ loss\n",
        "* Cross Entropy Loss :- The one we saw in logistic regression, this is generally used for classification  \n",
        "In general the Cross Entropy Loss can be written as $\\sum -x_a log (x_p)$, where $x_a$ is the actual value, $x_p$ is the predicted value. (why does this work? what happens when $x_a$ is 0 and 1?)\n",
        "\n",
        "There are a few other loss functions like :-\n",
        "* Mean Absolute Loss :- The mean of the absolute difference between the predicted value and the actual value, also called $L_1$ loss\n",
        "* Negative log-likelihood Loss :- More about this later, it is generally used with softmax activation function"
      ]
    },
    {
      "cell_type": "markdown",
      "id": "stone-crest",
      "metadata": {
        "id": "stone-crest"
      },
      "source": [
        "## Optimizers in deep learning \n",
        "* SDG :- Stochastic Gradient Descent Optimiser is the classic one we have been using for linear regression. More regarding gradient descent [here](https://towardsdatascience.com/batch-mini-batch-stochastic-gradient-descent-7a62ecba642a)\n",
        "* Adam :- This is a much faster optimiser that is almost always used in deep learning. More about the working [here](https://machinelearningjourney.com/index.php/2021/01/09/adam-optimizer/) (Note this is more appropriate after a course on numerical analysis which you will have next year)"
      ]
    },
    {
      "cell_type": "markdown",
      "id": "metric-nature",
      "metadata": {
        "id": "metric-nature"
      },
      "source": [
        "## Activation functions:-"
      ]
    },
    {
      "cell_type": "markdown",
      "id": "needed-birmingham",
      "metadata": {
        "id": "needed-birmingham"
      },
      "source": [
        "### Import statements\n",
        "To install PyTorch refer to [this](https://pytorch.org/get-started/locally/)"
      ]
    },
    {
      "cell_type": "code",
      "execution_count": null,
      "id": "tropical-cookie",
      "metadata": {
        "id": "tropical-cookie"
      },
      "outputs": [],
      "source": [
        "import torch\n",
        "import torch.nn as nn\n",
        "import torch.nn.functional as F\n",
        "import numpy as np\n",
        "import matplotlib.pyplot as plt"
      ]
    },
    {
      "cell_type": "markdown",
      "id": "verbal-queens",
      "metadata": {
        "id": "verbal-queens"
      },
      "source": [
        "**Sigmoid** :- It is the sigmoid function"
      ]
    },
    {
      "cell_type": "code",
      "execution_count": null,
      "id": "second-toolbox",
      "metadata": {
        "id": "second-toolbox",
        "outputId": "48d01b18-b9e4-40aa-ed95-22124f38316b"
      },
      "outputs": [
        {
          "data": {
            "image/png": "[encoded data removed]",
            "text/plain": [
              "<Figure size 432x288 with 1 Axes>"
            ]
          },
          "metadata": {
            "needs_background": "light"
          },
          "output_type": "display_data"
        }
      ],
      "source": [
        "Sigmoid = nn.Sigmoid()\n",
        "\n",
        "x = torch.linspace(-5, 5, steps=100) # gives 100 points between -10 and 10\n",
        "y = Sigmoid(x)\n",
        "\n",
        "plt.plot(x,y)\n",
        "plt.show()"
      ]
    },
    {
      "cell_type": "markdown",
      "id": "analyzed-affair",
      "metadata": {
        "id": "analyzed-affair"
      },
      "source": [
        "**Tanh** :- It is the hyperbolic tangent function"
      ]
    },
    {
      "cell_type": "code",
      "execution_count": null,
      "id": "public-census",
      "metadata": {
        "id": "public-census",
        "outputId": "6dc03100-a96e-4a64-8604-2c55f63d5ec1"
      },
      "outputs": [
        {
          "data": {
            "image/png": "[encoded data removed]",
            "text/plain": [
              "<Figure size 432x288 with 1 Axes>"
            ]
          },
          "metadata": {
            "needs_background": "light"
          },
          "output_type": "display_data"
        }
      ],
      "source": [
        "Tanh = nn.Tanh()\n",
        "\n",
        "x = torch.linspace(-5, 5, steps=100) # gives 100 points between -10 and 10\n",
        "y = Tanh(x)\n",
        "\n",
        "plt.plot(x,y)\n",
        "plt.show()"
      ]
    },
    {
      "cell_type": "markdown",
      "id": "involved-producer",
      "metadata": {
        "id": "involved-producer"
      },
      "source": [
        "**ReLU** :- The equation for this function is max(0,x)"
      ]
    },
    {
      "cell_type": "code",
      "execution_count": null,
      "id": "asian-trace",
      "metadata": {
        "id": "asian-trace",
        "outputId": "fd83e8bf-54cd-4ffe-8c11-f800432be6a4"
      },
      "outputs": [
        {
          "data": {
            "image/png": "[encoded data removed]",
            "text/plain": [
              "<Figure size 432x288 with 1 Axes>"
            ]
          },
          "metadata": {
            "needs_background": "light"
          },
          "output_type": "display_data"
        }
      ],
      "source": [
        "ReLU = nn.ReLU()\n",
        "\n",
        "x = torch.linspace(-5, 5, steps=100) # gives 100 points between -10 and 10\n",
        "y = ReLU(x)\n",
        "\n",
        "plt.plot(x,y)\n",
        "plt.show()"
      ]
    },
    {
      "cell_type": "markdown",
      "id": "minor-hundred",
      "metadata": {
        "id": "minor-hundred"
      },
      "source": [
        "**Softmax** :- it is used to convert an array into a relative probability distribution  \n",
        "This is particularly helpful in multiclass classification  \n",
        "Softmax fuction is defined as $\\sigma (x_i)$ = $\\displaystyle\\frac{e^{x_i}}{\\sum_{j=1}^n e^{x_j}}$, where n is the no. of classes  \n",
        "It is used to convert numeric output to an output in he range [0,1], while also making sure that the sum of all the values is 1"
      ]
    },
    {
      "cell_type": "code",
      "execution_count": null,
      "id": "three-leonard",
      "metadata": {
        "id": "three-leonard",
        "outputId": "cda7a3ff-c76c-4a9a-cdda-f91706af3ac6"
      },
      "outputs": [
        {
          "name": "stdout",
          "output_type": "stream",
          "text": [
            "The probabilities are tensor([[0.0466, 0.9362, 0.0171]])\n"
          ]
        }
      ],
      "source": [
        "Softmax = nn.Softmax(dim=1)\n",
        "\n",
        "x = torch.FloatTensor([[2, 5, 1]])\n",
        "y = Softmax(x)\n",
        "\n",
        "print(f'The probabilities are {y}') # using the f allows us to print variables using {}"
      ]
    },
    {
      "cell_type": "markdown",
      "id": "exceptional-engineering",
      "metadata": {
        "id": "exceptional-engineering"
      },
      "source": [
        "### Use cases\n",
        "* For the last layer, Softmax is used for multiclass classification\n",
        "* For the last layer, you can use sigmoid or tanh if it is a two class classification problem\n",
        "* ReLU is your goto activation function for hidden layers. This is because:\n",
        "    * It is very fast to find its gradient when compared to sigmoid and tanh (ReLU can have a gradient of only 0 or 1)\n",
        "    * It doesn't suffer from the **vanishing gradient problem**  \n",
        "    * **Vanishing gradient problem**: \n",
        "        * If you have 5 layers with sigmoid activation, and at each layer, your gradient is around 0.3. To calulate gradients you use the chain rule, which means for the first layer your gradient is raised to the power 5. The gradients for the first layer will be of the order $0.3^{5}$ $\\approx$ $0.002$. This means the randomly initialised weights will barely change for the first layer. \n",
        "        * This problem is doesn't happen with ReLU as the gradient has values 0 and 1. (There is something called ResNets which are meant to solve this issue but that's a topic for some other day)\n",
        "* ReLU is also not a perfect activation as if x<0 for a neuron that neuron becomes inactive (as the gradient will always be 0 so no updates will happen). To solve this issue there a few more complex funtions like GeLU and Leaky ReLU but for most cases using ReLU is good enough."
      ]
    },
    {
      "cell_type": "markdown",
      "id": "eligible-northeast",
      "metadata": {
        "id": "eligible-northeast"
      },
      "source": [
        "### Note:\n",
        "Things to do before moving forward\n",
        "* Read more about tensors [here](https://pytorch.org/tutorials/beginner/basics/tensorqs_tutorial.html)  \n",
        "* Read about autograd [here](https://pytorch.org/tutorials/beginner/blitz/autograd_tutorial.html#differentiation-in-autograd)"
      ]
    },
    {
      "cell_type": "markdown",
      "id": "assisted-minister",
      "metadata": {
        "id": "assisted-minister"
      },
      "source": [
        "Pytorch works with tensors and not arrays, but for all purposes, you can covert a numpy array to a tensor by using this:    "
      ]
    },
    {
      "cell_type": "code",
      "execution_count": null,
      "id": "former-spank",
      "metadata": {
        "id": "former-spank",
        "outputId": "6b3bb415-3ce4-45f3-b82a-76beca35abde"
      },
      "outputs": [
        {
          "data": {
            "text/plain": [
              "tensor([1, 2, 3])"
            ]
          },
          "execution_count": 6,
          "metadata": {},
          "output_type": "execute_result"
        }
      ],
      "source": [
        "np_array = np.array([1,2,3])\n",
        "x_np = torch.from_numpy(np_array)\n",
        "x_np"
      ]
    },
    {
      "cell_type": "markdown",
      "id": "protective-insulation",
      "metadata": {
        "id": "protective-insulation"
      },
      "source": [
        "## Basic Flow in PyTorch\n",
        "### Data Preprocessing\n",
        "Like usual we will be using the Iris data set for this demo"
      ]
    },
    {
      "cell_type": "code",
      "execution_count": null,
      "id": "alert-mixture",
      "metadata": {
        "id": "alert-mixture"
      },
      "outputs": [],
      "source": [
        "from sklearn.datasets import load_iris\n",
        "from sklearn.model_selection import train_test_split\n",
        "from sklearn.preprocessing import StandardScaler\n",
        "import numpy as np\n",
        "import pandas as pd\n",
        "from torch.autograd import Variable\n",
        "import torch.nn as nn\n",
        "import torch"
      ]
    },
    {
      "cell_type": "code",
      "execution_count": null,
      "id": "intense-relation",
      "metadata": {
        "id": "intense-relation"
      },
      "outputs": [],
      "source": [
        "iris = load_iris()\n",
        "X = iris['data']\n",
        "y = iris['target']\n",
        "\n",
        "scaler = StandardScaler()\n",
        "X_scaled = scaler.fit_transform(X)\n",
        "\n",
        "X_train, X_test, y_train, y_test = train_test_split(X_scaled, y, test_size=0.2, random_state=2)"
      ]
    },
    {
      "cell_type": "markdown",
      "id": "fuzzy-salad",
      "metadata": {
        "id": "fuzzy-salad"
      },
      "source": [
        "### Making a model"
      ]
    },
    {
      "cell_type": "code",
      "execution_count": null,
      "id": "inner-skirt",
      "metadata": {
        "id": "inner-skirt"
      },
      "outputs": [],
      "source": [
        "# the nn.Module is the PyTorch class we are inheriting from so that we can use the prebuild functionalities\n",
        "# inheritance is basically deriving the functions/ variables from your parent class (nn.Module) to a child class(Net)\n",
        "\n",
        "class NetModel(nn.Module):\n",
        "    # Init is the constructor for this python class\n",
        "    # The self is like the keyword this in c++, which basically tells the complier\n",
        "    # that we are refering to the current instance of the class\n",
        "    def __init__(self, input_dim, hidden1_dim, hidden2_dim, no_class):\n",
        "        super(NetModel, self).__init__() # this statement calls the constructor of our parent class which is nn.Module\n",
        "        \n",
        "        self.linear1 = nn.Linear(input_dim, hidden1_dim)\n",
        "        self.linear2 = nn.Linear(hidden1_dim, hidden2_dim)\n",
        "        self.linear3 = nn.Linear(hidden2_dim, no_class)\n",
        "    \n",
        "    # we define a function called forward for forward propagation\n",
        "    # Note: we have to name the function forward\n",
        "    def forward(self, x):\n",
        "        x = F.relu(self.linear1(x))\n",
        "        x = F.relu(self.linear2(x))\n",
        "        x = F.softmax(self.linear3(x), dim=1)\n",
        "        return x"
      ]
    },
    {
      "cell_type": "code",
      "execution_count": null,
      "id": "appointed-ideal",
      "metadata": {
        "id": "appointed-ideal"
      },
      "outputs": [],
      "source": [
        "# making an object for our model\n",
        "model = NetModel(X_test.shape[1], 30, 15, len(set(y_test)))\n",
        "\n",
        "# len(set(y_set)) gives us the no of labels which is 3 in this case"
      ]
    },
    {
      "cell_type": "markdown",
      "id": "technical-general",
      "metadata": {
        "id": "technical-general"
      },
      "source": [
        "### Choosing optimizers and Loss function"
      ]
    },
    {
      "cell_type": "code",
      "execution_count": null,
      "id": "private-chuck",
      "metadata": {
        "id": "private-chuck"
      },
      "outputs": [],
      "source": [
        "optimizer = torch.optim.Adam(model.parameters(), lr=0.001)\n",
        "loss_func  = nn.CrossEntropyLoss()"
      ]
    },
    {
      "cell_type": "markdown",
      "id": "hearing-quick",
      "metadata": {
        "id": "hearing-quick"
      },
      "source": [
        "### Making the data ready for PyTorch\n",
        "Read [this](https://pytorch.org/tutorials/beginner/basics/data_tutorial.html) when you are planning to implement complex models"
      ]
    },
    {
      "cell_type": "code",
      "execution_count": null,
      "id": "temporal-tooth",
      "metadata": {
        "id": "temporal-tooth"
      },
      "outputs": [],
      "source": [
        "X_train = Variable(torch.from_numpy(X_train)).float()\n",
        "y_train = Variable(torch.from_numpy(y_train)).long()\n",
        "X_test  = Variable(torch.from_numpy(X_test)).float()\n",
        "y_test  = Variable(torch.from_numpy(y_test)).long()\n",
        "\n",
        "# For complex models we will need to use Datasets and Dataloaders instead of Variable"
      ]
    },
    {
      "cell_type": "markdown",
      "id": "automated-monitor",
      "metadata": {
        "id": "automated-monitor"
      },
      "source": [
        "### Training the Model"
      ]
    },
    {
      "cell_type": "code",
      "execution_count": null,
      "id": "elect-financing",
      "metadata": {
        "id": "elect-financing"
      },
      "outputs": [],
      "source": [
        "epochs = 400\n",
        "Loss = []\n",
        "\n",
        "for i in range(epochs):\n",
        "\n",
        "    # Dataloaders are used to split this whole data into batches, add padding, etc\n",
        "    y_pred = model(X_train) \n",
        "    \n",
        "    # Calculating the loss\n",
        "    loss = loss_func(y_pred, y_train)\n",
        "    Loss.append(loss.item())\n",
        "    \n",
        "    # This calculates the gradient and updates the weights for our model\n",
        "    optimizer.zero_grad()\n",
        "    loss.backward()\n",
        "    optimizer.step()"
      ]
    },
    {
      "cell_type": "code",
      "execution_count": null,
      "id": "directed-banks",
      "metadata": {
        "id": "directed-banks",
        "outputId": "c01b2e69-1221-444a-8767-16d1c5e0711c"
      },
      "outputs": [
        {
          "data": {
            "image/png": "[encoded data removed]",
            "text/plain": [
              "<Figure size 864x432 with 1 Axes>"
            ]
          },
          "metadata": {
            "needs_background": "light"
          },
          "output_type": "display_data"
        }
      ],
      "source": [
        "# Plotting the loss\n",
        "\n",
        "plot, (ax1) = plt.subplots(1, figsize=(12, 6))\n",
        "\n",
        "ax1.plot(Loss)\n",
        "ax1.set_ylabel(\"train data losss\")\n",
        "\n",
        "ax1.grid()"
      ]
    },
    {
      "cell_type": "markdown",
      "id": "enclosed-fever",
      "metadata": {
        "id": "enclosed-fever"
      },
      "source": [
        "### Testing the model"
      ]
    },
    {
      "cell_type": "code",
      "execution_count": null,
      "id": "facial-mills",
      "metadata": {
        "id": "facial-mills",
        "outputId": "fc670069-eff9-4b69-a9ff-34392faf6651"
      },
      "outputs": [
        {
          "name": "stdout",
          "output_type": "stream",
          "text": [
            "tensor([1., 1., 1., 1., 1., 1., 1., 1., 1., 1., 1., 1., 1., 1., 1., 1., 0., 1.,\n",
            "        1., 1., 0., 1., 1., 1., 1., 1., 1., 1., 1., 1.])\n"
          ]
        },
        {
          "data": {
            "text/plain": [
              "tensor(0.9333)"
            ]
          },
          "execution_count": 15,
          "metadata": {},
          "output_type": "execute_result"
        }
      ],
      "source": [
        "# we write no_grad as we are not going to calculate the gradient for the testing data\n",
        "with torch.no_grad():\n",
        "    y_pred = model(X_test)\n",
        "    correct = (torch.argmax(y_pred, dim=1) == y_test).float()\n",
        "    print(correct) # gives 0 when y_pred and y_test are not the same (as int/ float value of a bool false is 0)\n",
        "    accuracy = correct.mean()\n",
        "accuracy"
      ]
    },
    {
      "cell_type": "code",
      "execution_count": null,
      "id": "complex-plain",
      "metadata": {
        "id": "complex-plain"
      },
      "outputs": [],
      "source": [
        ""
      ]
    }
  ],
  "metadata": {
    "kernelspec": {
      "display_name": "Python 3",
      "language": "python",
      "name": "python3"
    },
    "language_info": {
      "codemirror_mode": {
        "name": "ipython",
        "version": 3
      },
      "file_extension": ".py",
      "mimetype": "text/x-python",
      "name": "python",
      "nbconvert_exporter": "python",
      "pygments_lexer": "ipython3",
      "version": "3.8.5"
    },
    "colab": {
      "name": "Neural_Networks.ipynb",
      "provenance": [],
      "include_colab_link": true
    }
  },
  "nbformat": 4,
  "nbformat_minor": 5
}